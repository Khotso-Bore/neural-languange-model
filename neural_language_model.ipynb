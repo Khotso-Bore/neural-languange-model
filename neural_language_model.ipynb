{
  "cells": [
    {
      "cell_type": "markdown",
      "id": "9f71020b",
      "metadata": {
        "id": "9f71020b"
      },
      "source": [
        "#download data set"
      ]
    },
    {
      "cell_type": "code",
      "execution_count": null,
      "id": "4457e628",
      "metadata": {
        "id": "4457e628"
      },
      "outputs": [],
      "source": [
        "import pandas as pd\n",
        "import numpy as np"
      ]
    },
    {
      "cell_type": "code",
      "execution_count": null,
      "id": "14fccc7c",
      "metadata": {
        "id": "14fccc7c",
        "outputId": "495d86d0-cc87-4d06-f89d-70fcfce73cbe"
      },
      "outputs": [
        {
          "name": "stdout",
          "output_type": "stream",
          "text": [
            "Number of records (news articles):  3000\n"
          ]
        }
      ],
      "source": [
        "df_setswana_tweets = pd.read_csv('setswana_tweets.csv')\n",
        "print(\"Number of records: \",df_setswana_tweets.shape[0])"
      ]
    },
    {
      "cell_type": "code",
      "execution_count": null,
      "id": "63ea56be",
      "metadata": {
        "id": "63ea56be"
      },
      "outputs": [],
      "source": [
        "vgfgfh"
      ]
    },
    {
      "cell_type": "markdown",
      "id": "3e4912a7",
      "metadata": {
        "id": "3e4912a7"
      },
      "source": [
        "#tokenize dataset"
      ]
    },
    {
      "cell_type": "markdown",
      "source": [
        "#Create neural model"
      ],
      "metadata": {
        "id": "kIFtdtevUZ4w"
      },
      "id": "kIFtdtevUZ4w"
    },
    {
      "cell_type": "markdown",
      "id": "b0da7354",
      "metadata": {
        "id": "b0da7354"
      },
      "source": [
        "#evaluate model"
      ]
    }
  ],
  "metadata": {
    "kernelspec": {
      "display_name": "Python 3",
      "language": "python",
      "name": "python3"
    },
    "language_info": {
      "codemirror_mode": {
        "name": "ipython",
        "version": 3
      },
      "file_extension": ".py",
      "mimetype": "text/x-python",
      "name": "python",
      "nbconvert_exporter": "python",
      "pygments_lexer": "ipython3",
      "version": "3.11.1"
    },
    "colab": {
      "provenance": []
    }
  },
  "nbformat": 4,
  "nbformat_minor": 5
}