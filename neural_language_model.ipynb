{
  "cells": [
    {
      "cell_type": "markdown",
      "id": "9f71020b",
      "metadata": {
        "id": "9f71020b"
      },
      "source": [
        "#download data set"
      ]
    },
    {
      "cell_type": "code",
      "execution_count": 4,
      "id": "4457e628",
      "metadata": {
        "id": "4457e628"
      },
      "outputs": [],
      "source": [
        "import pandas as pd\n",
        "import numpy as np"
      ]
    },
    {
      "cell_type": "code",
      "execution_count": 7,
      "id": "14fccc7c",
      "metadata": {
        "colab": {
          "base_uri": "https://localhost:8080/"
        },
        "id": "14fccc7c",
        "outputId": "f3e0f4eb-4014-43a6-c68a-5423b6d83a9d"
      },
      "outputs": [
        {
          "output_type": "stream",
          "name": "stdout",
          "text": [
            "Number of records:  3000\n"
          ]
        }
      ],
      "source": [
        "url = 'https://raw.githubusercontent.com/NLPforLRLsProjects/SAfriSenti-Corpus/refs/heads/main/setswana_tweets.csv'\n",
        "df_setswana_tweets = pd.read_csv(url)\n",
        "print(\"Number of records: \",df_setswana_tweets.shape[0])"
      ]
    },
    {
      "cell_type": "markdown",
      "id": "3e4912a7",
      "metadata": {
        "id": "3e4912a7"
      },
      "source": [
        "#tokenize dataset"
      ]
    },
    {
      "cell_type": "markdown",
      "source": [
        "#Create neural model"
      ],
      "metadata": {
        "id": "kIFtdtevUZ4w"
      },
      "id": "kIFtdtevUZ4w"
    },
    {
      "cell_type": "markdown",
      "id": "b0da7354",
      "metadata": {
        "id": "b0da7354"
      },
      "source": [
        "#evaluate model"
      ]
    }
  ],
  "metadata": {
    "kernelspec": {
      "display_name": "Python 3",
      "language": "python",
      "name": "python3"
    },
    "language_info": {
      "codemirror_mode": {
        "name": "ipython",
        "version": 3
      },
      "file_extension": ".py",
      "mimetype": "text/x-python",
      "name": "python",
      "nbconvert_exporter": "python",
      "pygments_lexer": "ipython3",
      "version": "3.11.1"
    },
    "colab": {
      "provenance": []
    }
  },
  "nbformat": 4,
  "nbformat_minor": 5
}