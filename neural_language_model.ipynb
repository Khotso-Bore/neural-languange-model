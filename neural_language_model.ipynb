{
  "cells": [
    {
      "cell_type": "markdown",
      "id": "9f71020b",
      "metadata": {
        "id": "9f71020b"
      },
      "source": [
        "#download data set"
      ]
    },
    {
      "cell_type": "code",
      "execution_count": 8,
      "id": "4457e628",
      "metadata": {
        "id": "4457e628"
      },
      "outputs": [],
      "source": [
        "import pandas as pd\n",
        "import numpy as np"
      ]
    },
    {
      "cell_type": "code",
      "execution_count": 9,
      "id": "14fccc7c",
      "metadata": {
        "colab": {
          "base_uri": "https://localhost:8080/"
        },
        "id": "14fccc7c",
        "outputId": "d0b41d75-5ce4-4205-d12d-39b3a017e72f"
      },
      "outputs": [
        {
          "output_type": "stream",
          "name": "stdout",
          "text": [
            "Number of records:  3000\n"
          ]
        }
      ],
      "source": [
        "url = 'https://raw.githubusercontent.com/NLPforLRLsProjects/SAfriSenti-Corpus/refs/heads/main/setswana_tweets.csv'\n",
        "df_setswana_tweets = pd.read_csv(url)\n",
        "print(\"Number of records: \",df_setswana_tweets.shape[0])"
      ]
    },
    {
      "cell_type": "markdown",
      "id": "3e4912a7",
      "metadata": {
        "id": "3e4912a7"
      },
      "source": [
        "#tokenize dataset"
      ]
    },
    {
      "cell_type": "markdown",
      "source": [
        "#Create neural model"
      ],
      "metadata": {
        "id": "kIFtdtevUZ4w"
      },
      "id": "kIFtdtevUZ4w"
    },
    {
      "cell_type": "code",
      "source": [
        "from tensorflow.keras.models import Sequential\n",
        "from tensorflow.keras.layers import Embedding, LSTM, Dense\n",
        "\n",
        "model = Sequential()\n",
        "model.add(Embedding(input_dim=10, output_dim=50, input_length=10))\n",
        "model.add(LSTM(64))\n",
        "model.add(Dense(1, activation='sigmoid'))\n",
        "\n",
        "model.compile(optimizer='adam', loss='binary_crossentropy', metrics=['accuracy'])"
      ],
      "metadata": {
        "id": "jkKtAYf0gEZu",
        "outputId": "b0d4aa75-998d-443e-91c1-f09363828318",
        "colab": {
          "base_uri": "https://localhost:8080/"
        }
      },
      "id": "jkKtAYf0gEZu",
      "execution_count": 11,
      "outputs": [
        {
          "output_type": "stream",
          "name": "stderr",
          "text": [
            "/usr/local/lib/python3.11/dist-packages/keras/src/layers/core/embedding.py:90: UserWarning: Argument `input_length` is deprecated. Just remove it.\n",
            "  warnings.warn(\n"
          ]
        }
      ]
    },
    {
      "cell_type": "markdown",
      "id": "b0da7354",
      "metadata": {
        "id": "b0da7354"
      },
      "source": [
        "#evaluate model"
      ]
    }
  ],
  "metadata": {
    "kernelspec": {
      "display_name": "Python 3",
      "language": "python",
      "name": "python3"
    },
    "language_info": {
      "codemirror_mode": {
        "name": "ipython",
        "version": 3
      },
      "file_extension": ".py",
      "mimetype": "text/x-python",
      "name": "python",
      "nbconvert_exporter": "python",
      "pygments_lexer": "ipython3",
      "version": "3.11.1"
    },
    "colab": {
      "provenance": []
    }
  },
  "nbformat": 4,
  "nbformat_minor": 5
}