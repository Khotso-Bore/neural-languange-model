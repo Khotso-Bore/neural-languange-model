{
  "cells": [
    {
      "cell_type": "markdown",
      "metadata": {
        "id": "view-in-github",
        "colab_type": "text"
      },
      "source": [
        "<a href=\"https://colab.research.google.com/github/Khotso-Bore/neural-languange-model/blob/Fine-Tuning/AfroXLMR_NLP.ipynb\" target=\"_parent\"><img src=\"https://colab.research.google.com/assets/colab-badge.svg\" alt=\"Open In Colab\"/></a>"
      ]
    },
    {
      "cell_type": "code",
      "execution_count": null,
      "id": "5c1e1c1a",
      "metadata": {
        "id": "5c1e1c1a",
        "outputId": "fbb53b8f-89e9-43c1-a0b2-5ba57c4aad8d"
      },
      "outputs": [
        {
          "name": "stdout",
          "output_type": "stream",
          "text": [
            "Requirement already satisfied: transformers in c:\\users\\innoc\\appdata\\local\\packages\\pythonsoftwarefoundation.python.3.11_qbz5n2kfra8p0\\localcache\\local-packages\\python311\\site-packages (4.51.3)\n",
            "Requirement already satisfied: filelock in c:\\users\\innoc\\appdata\\local\\packages\\pythonsoftwarefoundation.python.3.11_qbz5n2kfra8p0\\localcache\\local-packages\\python311\\site-packages (from transformers) (3.18.0)\n",
            "Requirement already satisfied: huggingface-hub<1.0,>=0.30.0 in c:\\users\\innoc\\appdata\\local\\packages\\pythonsoftwarefoundation.python.3.11_qbz5n2kfra8p0\\localcache\\local-packages\\python311\\site-packages (from transformers) (0.30.2)\n",
            "Requirement already satisfied: numpy>=1.17 in c:\\users\\innoc\\appdata\\local\\packages\\pythonsoftwarefoundation.python.3.11_qbz5n2kfra8p0\\localcache\\local-packages\\python311\\site-packages (from transformers) (1.26.4)\n",
            "Requirement already satisfied: packaging>=20.0 in c:\\users\\innoc\\appdata\\local\\packages\\pythonsoftwarefoundation.python.3.11_qbz5n2kfra8p0\\localcache\\local-packages\\python311\\site-packages (from transformers) (24.2)\n",
            "Requirement already satisfied: pyyaml>=5.1 in c:\\users\\innoc\\appdata\\local\\packages\\pythonsoftwarefoundation.python.3.11_qbz5n2kfra8p0\\localcache\\local-packages\\python311\\site-packages (from transformers) (6.0.2)\n",
            "Requirement already satisfied: regex!=2019.12.17 in c:\\users\\innoc\\appdata\\local\\packages\\pythonsoftwarefoundation.python.3.11_qbz5n2kfra8p0\\localcache\\local-packages\\python311\\site-packages (from transformers) (2024.11.6)\n",
            "Requirement already satisfied: requests in c:\\users\\innoc\\appdata\\local\\packages\\pythonsoftwarefoundation.python.3.11_qbz5n2kfra8p0\\localcache\\local-packages\\python311\\site-packages (from transformers) (2.32.3)\n",
            "Requirement already satisfied: tokenizers<0.22,>=0.21 in c:\\users\\innoc\\appdata\\local\\packages\\pythonsoftwarefoundation.python.3.11_qbz5n2kfra8p0\\localcache\\local-packages\\python311\\site-packages (from transformers) (0.21.1)\n",
            "Requirement already satisfied: safetensors>=0.4.3 in c:\\users\\innoc\\appdata\\local\\packages\\pythonsoftwarefoundation.python.3.11_qbz5n2kfra8p0\\localcache\\local-packages\\python311\\site-packages (from transformers) (0.5.3)\n",
            "Requirement already satisfied: tqdm>=4.27 in c:\\users\\innoc\\appdata\\local\\packages\\pythonsoftwarefoundation.python.3.11_qbz5n2kfra8p0\\localcache\\local-packages\\python311\\site-packages (from transformers) (4.67.1)\n",
            "Requirement already satisfied: fsspec>=2023.5.0 in c:\\users\\innoc\\appdata\\local\\packages\\pythonsoftwarefoundation.python.3.11_qbz5n2kfra8p0\\localcache\\local-packages\\python311\\site-packages (from huggingface-hub<1.0,>=0.30.0->transformers) (2025.3.0)\n",
            "Requirement already satisfied: typing-extensions>=3.7.4.3 in c:\\users\\innoc\\appdata\\local\\packages\\pythonsoftwarefoundation.python.3.11_qbz5n2kfra8p0\\localcache\\local-packages\\python311\\site-packages (from huggingface-hub<1.0,>=0.30.0->transformers) (4.12.2)\n",
            "Requirement already satisfied: colorama in c:\\users\\innoc\\appdata\\local\\packages\\pythonsoftwarefoundation.python.3.11_qbz5n2kfra8p0\\localcache\\local-packages\\python311\\site-packages (from tqdm>=4.27->transformers) (0.4.6)\n",
            "Requirement already satisfied: charset-normalizer<4,>=2 in c:\\users\\innoc\\appdata\\local\\packages\\pythonsoftwarefoundation.python.3.11_qbz5n2kfra8p0\\localcache\\local-packages\\python311\\site-packages (from requests->transformers) (3.4.1)\n",
            "Requirement already satisfied: idna<4,>=2.5 in c:\\users\\innoc\\appdata\\local\\packages\\pythonsoftwarefoundation.python.3.11_qbz5n2kfra8p0\\localcache\\local-packages\\python311\\site-packages (from requests->transformers) (3.10)\n",
            "Requirement already satisfied: urllib3<3,>=1.21.1 in c:\\users\\innoc\\appdata\\local\\packages\\pythonsoftwarefoundation.python.3.11_qbz5n2kfra8p0\\localcache\\local-packages\\python311\\site-packages (from requests->transformers) (2.3.0)\n",
            "Requirement already satisfied: certifi>=2017.4.17 in c:\\users\\innoc\\appdata\\local\\packages\\pythonsoftwarefoundation.python.3.11_qbz5n2kfra8p0\\localcache\\local-packages\\python311\\site-packages (from requests->transformers) (2025.1.31)\n",
            "Note: you may need to restart the kernel to use updated packages.\n"
          ]
        },
        {
          "name": "stderr",
          "output_type": "stream",
          "text": [
            "\n",
            "[notice] A new release of pip is available: 25.0.1 -> 25.1.1\n",
            "[notice] To update, run: C:\\Users\\innoc\\AppData\\Local\\Microsoft\\WindowsApps\\PythonSoftwareFoundation.Python.3.11_qbz5n2kfra8p0\\python.exe -m pip install --upgrade pip\n"
          ]
        }
      ],
      "source": [
        "pip install transformers"
      ]
    },
    {
      "cell_type": "code",
      "execution_count": null,
      "id": "2e621a03",
      "metadata": {
        "id": "2e621a03"
      },
      "outputs": [],
      "source": [
        "import pandas as pd\n",
        "import numpy as np\n",
        "import re\n"
      ]
    },
    {
      "cell_type": "code",
      "execution_count": null,
      "id": "b2f05bf6",
      "metadata": {
        "id": "b2f05bf6"
      },
      "outputs": [],
      "source": [
        "setswana_url = 'https://raw.githubusercontent.com/NLPforLRLsProjects/SAfriSenti-Corpus/refs/heads/main/setswana_tweets.csv'\n",
        "sesotho_url = 'https://raw.githubusercontent.com/NLPforLRLsProjects/SAfriSenti-Corpus/refs/heads/main/sesotho_tweets.csv'\n",
        "\n",
        "ts_df = pd.read_csv(setswana_url)\n",
        "so_df = pd.read_csv(sesotho_url)"
      ]
    },
    {
      "cell_type": "code",
      "execution_count": null,
      "id": "19501daa",
      "metadata": {
        "id": "19501daa",
        "outputId": "3811f688-7d74-4f59-f0e7-ee973506a254"
      },
      "outputs": [
        {
          "data": {
            "text/html": [
              "<div>\n",
              "<style scoped>\n",
              "    .dataframe tbody tr th:only-of-type {\n",
              "        vertical-align: middle;\n",
              "    }\n",
              "\n",
              "    .dataframe tbody tr th {\n",
              "        vertical-align: top;\n",
              "    }\n",
              "\n",
              "    .dataframe thead th {\n",
              "        text-align: right;\n",
              "    }\n",
              "</style>\n",
              "<table border=\"1\" class=\"dataframe\">\n",
              "  <thead>\n",
              "    <tr style=\"text-align: right;\">\n",
              "      <th></th>\n",
              "      <th>sentence</th>\n",
              "      <th>Final_Label</th>\n",
              "      <th>predict_name</th>\n",
              "    </tr>\n",
              "  </thead>\n",
              "  <tbody>\n",
              "    <tr>\n",
              "      <th>0</th>\n",
              "      <td>@user lol o dramatic stocko se teng mo lwena mos</td>\n",
              "      <td>positive</td>\n",
              "      <td>Setswana</td>\n",
              "    </tr>\n",
              "    <tr>\n",
              "      <th>1</th>\n",
              "      <td>@user i m happy with my current piece job ausi</td>\n",
              "      <td>positive</td>\n",
              "      <td>Setswana</td>\n",
              "    </tr>\n",
              "    <tr>\n",
              "      <th>2</th>\n",
              "      <td>o ntate wane a tlang le mane o dieta tsa hae ...</td>\n",
              "      <td>positive</td>\n",
              "      <td>Setswana</td>\n",
              "    </tr>\n",
              "    <tr>\n",
              "      <th>3</th>\n",
              "      <td>ka dikuku my love</td>\n",
              "      <td>positive</td>\n",
              "      <td>Setswana</td>\n",
              "    </tr>\n",
              "    <tr>\n",
              "      <th>4</th>\n",
              "      <td>@user yeah i doubt much will be done ka kgang ...</td>\n",
              "      <td>negative</td>\n",
              "      <td>Setswana</td>\n",
              "    </tr>\n",
              "  </tbody>\n",
              "</table>\n",
              "</div>"
            ],
            "text/plain": [
              "                                            sentence Final_Label predict_name\n",
              "0  @user lol o dramatic stocko se teng mo lwena mos     positive     Setswana\n",
              "1    @user i m happy with my current piece job ausi     positive     Setswana\n",
              "2   o ntate wane a tlang le mane o dieta tsa hae ...    positive     Setswana\n",
              "3                                 ka dikuku my love     positive     Setswana\n",
              "4  @user yeah i doubt much will be done ka kgang ...    negative     Setswana"
            ]
          },
          "execution_count": 4,
          "metadata": {},
          "output_type": "execute_result"
        }
      ],
      "source": [
        "ts_df.head()"
      ]
    },
    {
      "cell_type": "code",
      "execution_count": null,
      "id": "a0066112",
      "metadata": {
        "id": "a0066112",
        "outputId": "577fe388-781a-4649-9eb6-124cbd430cc9"
      },
      "outputs": [
        {
          "data": {
            "text/plain": [
              "<bound method DataFrame.value_counts of                                                sentence Final_Label  \\\n",
              "0     @user lol o dramatic stocko se teng mo lwena mos     positive   \n",
              "1       @user i m happy with my current piece job ausi     positive   \n",
              "2      o ntate wane a tlang le mane o dieta tsa hae ...    positive   \n",
              "3                                    ka dikuku my love     positive   \n",
              "4     @user yeah i doubt much will be done ka kgang ...    negative   \n",
              "...                                                 ...         ...   \n",
              "2995  @user nnyaa rra ne e ka mpolaa nka nna letagwa...    negative   \n",
              "2996  @user mathata are ema ha re re mee mee atleast...    negative   \n",
              "2997                                    batho ba lwala     negative   \n",
              "2998  @user can we exchange sons bathong ne a sa bat...    negative   \n",
              "2999  jaaka motswana a buile ke mabele ke gasame ke ...     neutral   \n",
              "\n",
              "     predict_name  \n",
              "0        Setswana  \n",
              "1        Setswana  \n",
              "2        Setswana  \n",
              "3        Setswana  \n",
              "4        Setswana  \n",
              "...           ...  \n",
              "2995     Setswana  \n",
              "2996     Setswana  \n",
              "2997     Setswana  \n",
              "2998     Setswana  \n",
              "2999     Setswana  \n",
              "\n",
              "[3000 rows x 3 columns]>"
            ]
          },
          "execution_count": 7,
          "metadata": {},
          "output_type": "execute_result"
        }
      ],
      "source": [
        "ts_df.value_counts"
      ]
    },
    {
      "cell_type": "code",
      "execution_count": null,
      "id": "e26892ca",
      "metadata": {
        "id": "e26892ca",
        "outputId": "74140fa1-8bb0-40b0-f46b-9ec38360225e"
      },
      "outputs": [
        {
          "data": {
            "text/html": [
              "<div>\n",
              "<style scoped>\n",
              "    .dataframe tbody tr th:only-of-type {\n",
              "        vertical-align: middle;\n",
              "    }\n",
              "\n",
              "    .dataframe tbody tr th {\n",
              "        vertical-align: top;\n",
              "    }\n",
              "\n",
              "    .dataframe thead th {\n",
              "        text-align: right;\n",
              "    }\n",
              "</style>\n",
              "<table border=\"1\" class=\"dataframe\">\n",
              "  <thead>\n",
              "    <tr style=\"text-align: right;\">\n",
              "      <th></th>\n",
              "      <th>sentence</th>\n",
              "      <th>Final_labels</th>\n",
              "      <th>predict_name</th>\n",
              "    </tr>\n",
              "  </thead>\n",
              "  <tbody>\n",
              "    <tr>\n",
              "      <th>0</th>\n",
              "      <td>@user gwa tshwana rena ba bang a re kreye selo...</td>\n",
              "      <td>negative</td>\n",
              "      <td>Sesotho</td>\n",
              "    </tr>\n",
              "    <tr>\n",
              "      <th>1</th>\n",
              "      <td>e bata goal spurs</td>\n",
              "      <td>neutral</td>\n",
              "      <td>Sesotho</td>\n",
              "    </tr>\n",
              "    <tr>\n",
              "      <th>2</th>\n",
              "      <td>@user @user ke nahana taba eno ea ho batla ho ...</td>\n",
              "      <td>negative</td>\n",
              "      <td>multi</td>\n",
              "    </tr>\n",
              "    <tr>\n",
              "      <th>3</th>\n",
              "      <td>@user lotho hle empa fela ke ipotela</td>\n",
              "      <td>positive</td>\n",
              "      <td>Sesotho</td>\n",
              "    </tr>\n",
              "    <tr>\n",
              "      <th>4</th>\n",
              "      <td>@user @user keu utloa hantle</td>\n",
              "      <td>positive</td>\n",
              "      <td>Sesotho</td>\n",
              "    </tr>\n",
              "  </tbody>\n",
              "</table>\n",
              "</div>"
            ],
            "text/plain": [
              "                                            sentence Final_labels predict_name\n",
              "0  @user gwa tshwana rena ba bang a re kreye selo...     negative      Sesotho\n",
              "1                                  e bata goal spurs      neutral      Sesotho\n",
              "2  @user @user ke nahana taba eno ea ho batla ho ...     negative        multi\n",
              "3               @user lotho hle empa fela ke ipotela     positive      Sesotho\n",
              "4                       @user @user keu utloa hantle     positive      Sesotho"
            ]
          },
          "execution_count": 5,
          "metadata": {},
          "output_type": "execute_result"
        }
      ],
      "source": [
        "so_df.head()"
      ]
    },
    {
      "cell_type": "code",
      "execution_count": null,
      "id": "9651dc00",
      "metadata": {
        "id": "9651dc00",
        "outputId": "e518943b-6dd4-4432-cf15-2177fe4a44e2"
      },
      "outputs": [
        {
          "data": {
            "text/plain": [
              "<bound method DataFrame.value_counts of                                                sentence Final_labels  \\\n",
              "0     @user gwa tshwana rena ba bang a re kreye selo...     negative   \n",
              "1                                     e bata goal spurs      neutral   \n",
              "2     @user @user ke nahana taba eno ea ho batla ho ...     negative   \n",
              "3                  @user lotho hle empa fela ke ipotela     positive   \n",
              "4                          @user @user keu utloa hantle     positive   \n",
              "...                                                 ...          ...   \n",
              "2995  @user @user ntho diqala jwalo rumoursthe knes ...     negative   \n",
              "2996  @user iΓö£┬╗Γö¼Γò£m on leave ntse ke sheba hen...     negative   \n",
              "2997  he must come to botswana a re thuse that bogus...     negative   \n",
              "2998  @user wa bona ea hlokomela something fishy moh...     negative   \n",
              "2999  @user ebe ulto etsang ngoaneso with the traffi...     negative   \n",
              "\n",
              "     predict_name  \n",
              "0         Sesotho  \n",
              "1         Sesotho  \n",
              "2           multi  \n",
              "3         Sesotho  \n",
              "4         Sesotho  \n",
              "...           ...  \n",
              "2995      Sesotho  \n",
              "2996      Sesotho  \n",
              "2997        multi  \n",
              "2998      Sesotho  \n",
              "2999      Sesotho  \n",
              "\n",
              "[3000 rows x 3 columns]>"
            ]
          },
          "execution_count": 6,
          "metadata": {},
          "output_type": "execute_result"
        }
      ],
      "source": [
        "so_df.value_counts"
      ]
    },
    {
      "cell_type": "code",
      "execution_count": null,
      "id": "411a96ea",
      "metadata": {
        "id": "411a96ea"
      },
      "outputs": [],
      "source": [
        "def clean_tweets(text):\n",
        "    if pd.isnull(text):\n",
        "        return \"\"\n",
        "\n",
        "    #remove @'s mentions\n",
        "    text = re.sub(r'@\\w+', '', text)\n",
        "\n",
        "    #remove URLs\n",
        "    text = re.sub(r'https\\S+|www\\S+', '', text)\n",
        "\n",
        "    #Remove hashtags\n",
        "    text = re.sub(r'#', '', text)\n",
        "\n",
        "    #Remove Hashtags\n",
        "    text = re.sub(r'[^\\w\\s]', '', text)\n",
        "\n",
        "    # Remove digits (optional)\n",
        "    text = re.sub(r'\\d+', '', text)\n",
        "\n",
        "    # Remove emojis (optional)\n",
        "    text = text.encode('ascii', 'ignore').decode('ascii')\n",
        "\n",
        "    # Remove extra whitespace\n",
        "    text = re.sub(r'\\s+', ' ', text).strip()\n",
        "\n",
        "    return text.lower()\n"
      ]
    },
    {
      "cell_type": "code",
      "execution_count": null,
      "id": "6230e8a4",
      "metadata": {
        "id": "6230e8a4"
      },
      "outputs": [],
      "source": [
        "ts_df['cleaned_sent'] = ts_df['sentence'].apply(clean_tweets)\n",
        "ts_df.head()"
      ]
    },
    {
      "cell_type": "code",
      "execution_count": null,
      "id": "b301105e",
      "metadata": {
        "id": "b301105e"
      },
      "outputs": [],
      "source": [
        "so_df['cleaned_sent']= so_df['sentence'].apply(clean_tweets)\n",
        "so_df.head()"
      ]
    },
    {
      "cell_type": "code",
      "execution_count": null,
      "id": "31041172",
      "metadata": {
        "id": "31041172",
        "outputId": "d399df97-c74c-41a7-ebe6-a3af61ef1549"
      },
      "outputs": [
        {
          "name": "stdout",
          "output_type": "stream",
          "text": [
            "sentence         0\n",
            "Final_Label      0\n",
            "predict_name    34\n",
            "cleaned_sent     0\n",
            "dtype: int64\n",
            "sentence        0\n",
            "Final_labels    0\n",
            "predict_name    0\n",
            "cleaned_sent    0\n",
            "dtype: int64\n"
          ]
        }
      ],
      "source": [
        "print(ts_df.isnull().sum())\n",
        "print(so_df.isnull().sum())\n"
      ]
    },
    {
      "cell_type": "code",
      "execution_count": null,
      "id": "64003b78",
      "metadata": {
        "id": "64003b78",
        "outputId": "33bdc80f-55b1-4ca8-ac16-17461e2a736a"
      },
      "outputs": [
        {
          "name": "stderr",
          "output_type": "stream",
          "text": [
            "C:\\Users\\innoc\\AppData\\Local\\Temp\\ipykernel_22360\\530284662.py:1: FutureWarning: A value is trying to be set on a copy of a DataFrame or Series through chained assignment using an inplace method.\n",
            "The behavior will change in pandas 3.0. This inplace method will never work because the intermediate object on which we are setting values always behaves as a copy.\n",
            "\n",
            "For example, when doing 'df[col].method(value, inplace=True)', try using 'df.method({col: value}, inplace=True)' or df[col] = df[col].method(value) instead, to perform the operation inplace on the original object.\n",
            "\n",
            "\n",
            "  ts_df['predict_name'].fillna('unknown', inplace=True)\n",
            "C:\\Users\\innoc\\AppData\\Local\\Temp\\ipykernel_22360\\530284662.py:2: FutureWarning: A value is trying to be set on a copy of a DataFrame or Series through chained assignment using an inplace method.\n",
            "The behavior will change in pandas 3.0. This inplace method will never work because the intermediate object on which we are setting values always behaves as a copy.\n",
            "\n",
            "For example, when doing 'df[col].method(value, inplace=True)', try using 'df.method({col: value}, inplace=True)' or df[col] = df[col].method(value) instead, to perform the operation inplace on the original object.\n",
            "\n",
            "\n",
            "  so_df['predict_name'].fillna('unknown', inplace=True)\n"
          ]
        }
      ],
      "source": [
        "ts_df['predict_name'].fillna('unknown', inplace=True)\n",
        "so_df['predict_name'].fillna('unknown', inplace=True)"
      ]
    },
    {
      "cell_type": "code",
      "execution_count": null,
      "id": "8b31bbb7",
      "metadata": {
        "id": "8b31bbb7",
        "outputId": "45aa236d-4f40-4571-da22-10d401363648"
      },
      "outputs": [
        {
          "name": "stdout",
          "output_type": "stream",
          "text": [
            "sentence        0\n",
            "Final_Label     0\n",
            "predict_name    0\n",
            "cleaned_sent    0\n",
            "dtype: int64\n"
          ]
        }
      ],
      "source": [
        "print(ts_df.isnull().sum())"
      ]
    },
    {
      "cell_type": "code",
      "execution_count": null,
      "id": "02562355",
      "metadata": {
        "id": "02562355"
      },
      "outputs": [],
      "source": []
    },
    {
      "cell_type": "code",
      "execution_count": null,
      "id": "9451189d",
      "metadata": {
        "id": "9451189d"
      },
      "outputs": [],
      "source": []
    },
    {
      "cell_type": "code",
      "execution_count": null,
      "id": "d2716e57",
      "metadata": {
        "id": "d2716e57"
      },
      "outputs": [],
      "source": []
    },
    {
      "cell_type": "code",
      "execution_count": null,
      "id": "a19961e9",
      "metadata": {
        "id": "a19961e9"
      },
      "outputs": [],
      "source": []
    },
    {
      "cell_type": "code",
      "execution_count": null,
      "id": "61e0fd68",
      "metadata": {
        "id": "61e0fd68"
      },
      "outputs": [],
      "source": []
    },
    {
      "cell_type": "code",
      "execution_count": null,
      "id": "d044429a",
      "metadata": {
        "id": "d044429a"
      },
      "outputs": [],
      "source": []
    }
  ],
  "metadata": {
    "kernelspec": {
      "display_name": "Python 3",
      "language": "python",
      "name": "python3"
    },
    "language_info": {
      "codemirror_mode": {
        "name": "ipython",
        "version": 3
      },
      "file_extension": ".py",
      "mimetype": "text/x-python",
      "name": "python",
      "nbconvert_exporter": "python",
      "pygments_lexer": "ipython3",
      "version": "3.11.9"
    },
    "colab": {
      "provenance": [],
      "include_colab_link": true
    }
  },
  "nbformat": 4,
  "nbformat_minor": 5
}